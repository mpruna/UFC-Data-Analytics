{
 "cells": [
  {
   "cell_type": "code",
   "execution_count": 2,
   "metadata": {},
   "outputs": [],
   "source": [
    "import pandas as pd\n",
    "import numpy as np\n",
    "import os"
   ]
  },
  {
   "cell_type": "code",
   "execution_count": 3,
   "metadata": {},
   "outputs": [
    {
     "data": {
      "text/html": [
       "<style>\n",
       "table {float:left}\n",
       "</style>\n"
      ],
      "text/plain": [
       "<IPython.core.display.HTML object>"
      ]
     },
     "metadata": {},
     "output_type": "display_data"
    }
   ],
   "source": [
    "%%html\n",
    "<style>\n",
    "table {float:left}\n",
    "</style>"
   ]
  },
  {
   "cell_type": "code",
   "execution_count": 4,
   "metadata": {},
   "outputs": [
    {
     "name": "stdout",
     "output_type": "stream",
     "text": [
      "raw_fighter_details.csv\n",
      "data.csv\n",
      "preprocessed_data.csv\n",
      "raw_total_fight_data.csv\n"
     ]
    }
   ],
   "source": [
    "basepath=(\"./ufcdata/\")\n",
    "pandas_list=[]\n",
    "\n",
    "for item in os.listdir(basepath):\n",
    "    print(item)\n",
    "    fn=(os.path.join(basepath, item))  #create a file handler \n",
    "    obj=pd.read_csv(fn)                #open file as a pandas dataframe  \n",
    "    pandas_list.append(obj)"
   ]
  },
  {
   "cell_type": "code",
   "execution_count": 5,
   "metadata": {},
   "outputs": [
    {
     "data": {
      "text/html": [
       "<div>\n",
       "<style scoped>\n",
       "    .dataframe tbody tr th:only-of-type {\n",
       "        vertical-align: middle;\n",
       "    }\n",
       "\n",
       "    .dataframe tbody tr th {\n",
       "        vertical-align: top;\n",
       "    }\n",
       "\n",
       "    .dataframe thead th {\n",
       "        text-align: right;\n",
       "    }\n",
       "</style>\n",
       "<table border=\"1\" class=\"dataframe\">\n",
       "  <thead>\n",
       "    <tr style=\"text-align: right;\">\n",
       "      <th></th>\n",
       "      <th>fighter_name</th>\n",
       "      <th>Height</th>\n",
       "      <th>Weight</th>\n",
       "      <th>Reach</th>\n",
       "      <th>Stance</th>\n",
       "      <th>DOB</th>\n",
       "    </tr>\n",
       "  </thead>\n",
       "  <tbody>\n",
       "    <tr>\n",
       "      <th>0</th>\n",
       "      <td>AJ Fonseca</td>\n",
       "      <td>5' 4\"</td>\n",
       "      <td>145 lbs.</td>\n",
       "      <td>NaN</td>\n",
       "      <td>NaN</td>\n",
       "      <td>NaN</td>\n",
       "    </tr>\n",
       "    <tr>\n",
       "      <th>1</th>\n",
       "      <td>AJ Matthews</td>\n",
       "      <td>5' 11\"</td>\n",
       "      <td>185 lbs.</td>\n",
       "      <td>NaN</td>\n",
       "      <td>NaN</td>\n",
       "      <td>NaN</td>\n",
       "    </tr>\n",
       "    <tr>\n",
       "      <th>2</th>\n",
       "      <td>AJ McKee</td>\n",
       "      <td>5' 10\"</td>\n",
       "      <td>145 lbs.</td>\n",
       "      <td>NaN</td>\n",
       "      <td>NaN</td>\n",
       "      <td>NaN</td>\n",
       "    </tr>\n",
       "    <tr>\n",
       "      <th>3</th>\n",
       "      <td>AJ Siscoe</td>\n",
       "      <td>5' 7\"</td>\n",
       "      <td>135 lbs.</td>\n",
       "      <td>NaN</td>\n",
       "      <td>NaN</td>\n",
       "      <td>NaN</td>\n",
       "    </tr>\n",
       "    <tr>\n",
       "      <th>4</th>\n",
       "      <td>Aalon Cruz</td>\n",
       "      <td>6' 0\"</td>\n",
       "      <td>145 lbs.</td>\n",
       "      <td>NaN</td>\n",
       "      <td>NaN</td>\n",
       "      <td>NaN</td>\n",
       "    </tr>\n",
       "  </tbody>\n",
       "</table>\n",
       "</div>"
      ],
      "text/plain": [
       "  fighter_name  Height    Weight Reach Stance  DOB\n",
       "0   AJ Fonseca   5' 4\"  145 lbs.   NaN    NaN  NaN\n",
       "1  AJ Matthews  5' 11\"  185 lbs.   NaN    NaN  NaN\n",
       "2     AJ McKee  5' 10\"  145 lbs.   NaN    NaN  NaN\n",
       "3    AJ Siscoe   5' 7\"  135 lbs.   NaN    NaN  NaN\n",
       "4   Aalon Cruz   6' 0\"  145 lbs.   NaN    NaN  NaN"
      ]
     },
     "execution_count": 5,
     "metadata": {},
     "output_type": "execute_result"
    }
   ],
   "source": [
    "fighter=pandas_list[0]\n",
    "fighter.head()"
   ]
  },
  {
   "cell_type": "markdown",
   "metadata": {},
   "source": [
    "| Columns | Description |\n",
    "|--- | ---|\n",
    "|fighter_name | Name of the fighter |\n",
    "|Height | Height in inches |\n",
    "|Reach | Figher arm lenght |\n",
    "|Stance| Sauthpaw if fighter is left handed, orthodox if is right handed|\n",
    "|DOB| Date of Birth |"
   ]
  },
  {
   "cell_type": "markdown",
   "metadata": {},
   "source": [
    "Before we dive into more details, we have to some common concept related to data analytics.\n",
    "We can split the data types into three main categories: \n",
    "\n",
    "| Data Type | Explanation |\n",
    "|---|---|\n",
    "|Numerical | Integer/Float numbers(3.7;7,3) etc|\n",
    "|Categorical| Data can be split into chategories; ex Southpaw/Orthodox)|  \n",
    "|Ordinal | data is categorical, but can be measured (tall vs small; fat vs skinny)|"
   ]
  },
  {
   "cell_type": "markdown",
   "metadata": {},
   "source": [
    "A distinction must be made between the sample and the population. A population from an analytics standpoint refers to all the elements from a set of data. A sample refers to a group of data, a subset of the data. \n",
    "The term population does not have a census connotation. We might have mice, engines, movies, cars. Specific to our data set, a sample data might be champion fighters, southpaw fighters."
   ]
  },
  {
   "cell_type": "markdown",
   "metadata": {},
   "source": [
    "### Mean, Median, and Mode\n",
    "\n",
    "In Machine Learning (and in mathematics) there are often three values that interests us:\n",
    "* Mean - The average value\n",
    "* Median - The mid point value\n",
    "* Mode - The most common value\n",
    "\n",
    "Will calculate these values for Height and Weight columns"
   ]
  },
  {
   "cell_type": "code",
   "execution_count": 30,
   "metadata": {},
   "outputs": [
    {
     "data": {
      "text/plain": [
       "6' 0\"     0.127541\n",
       "5' 9\"     0.107213\n",
       "5' 10\"    0.105574\n",
       "5' 11\"    0.102295\n",
       "6' 1\"     0.085574\n",
       "5' 8\"     0.081639\n",
       "5' 7\"     0.074098\n",
       "6' 2\"     0.071475\n",
       "5' 6\"     0.059344\n",
       "6' 3\"     0.056393\n",
       "5' 5\"     0.032459\n",
       "6' 4\"     0.027213\n",
       "5' 4\"     0.022623\n",
       "5' 3\"     0.012131\n",
       "6' 5\"     0.011803\n",
       "6' 6\"     0.005246\n",
       "6' 7\"     0.003607\n",
       "5' 2\"     0.003607\n",
       "5' 1\"     0.003279\n",
       "6' 8\"     0.002951\n",
       "6' 11\"    0.000984\n",
       "6' 10\"    0.000984\n",
       "5' 0\"     0.000656\n",
       "7' 5\"     0.000328\n",
       "7' 2\"     0.000328\n",
       "4' 11\"    0.000328\n",
       "6' 9\"     0.000328\n",
       "Name: Height, dtype: float64"
      ]
     },
     "execution_count": 30,
     "metadata": {},
     "output_type": "execute_result"
    }
   ],
   "source": [
    "fighter['Height'].value_counts(normalize=True)"
   ]
  },
  {
   "cell_type": "markdown",
   "metadata": {},
   "source": [
    "With normalize set to True, returns the relative frequency by dividing all values by the sum of values.\n",
    "\n",
    "Ref:\n",
    "https://pandas.pydata.org/docs/reference/api/pandas.Series.value_counts.html?highlight=value_counts"
   ]
  },
  {
   "cell_type": "code",
   "execution_count": 33,
   "metadata": {},
   "outputs": [
    {
     "name": "stdout",
     "output_type": "stream",
     "text": [
      "170 lbs.    522\n",
      "155 lbs.    503\n",
      "185 lbs.    415\n",
      "145 lbs.    339\n",
      "135 lbs.    322\n",
      "205 lbs.    308\n",
      "125 lbs.    158\n",
      "115 lbs.     71\n",
      "265 lbs.     60\n",
      "235 lbs.     28\n",
      "Name: Weight, dtype: int64 \n",
      "\n",
      "167 lbs.    1\n",
      "315 lbs.    1\n",
      "286 lbs.    1\n",
      "239 lbs.    1\n",
      "410 lbs.    1\n",
      "237 lbs.    1\n",
      "186 lbs.    1\n",
      "229 lbs.    1\n",
      "194 lbs.    1\n",
      "259 lbs.    1\n",
      "Name: Weight, dtype: int64 \n",
      "\n"
     ]
    }
   ],
   "source": [
    "top_w=fighter['Weight'].value_counts().head(10)\n",
    "tail_w=fighter['Weight'].value_counts().tail(10)\n",
    "\n",
    "for t in top_w,tail_w:\n",
    "    print(t,\"\\n\")"
   ]
  },
  {
   "cell_type": "code",
   "execution_count": null,
   "metadata": {},
   "outputs": [],
   "source": []
  }
 ],
 "metadata": {
  "kernelspec": {
   "display_name": "Python 3",
   "language": "python",
   "name": "python3"
  },
  "language_info": {
   "codemirror_mode": {
    "name": "ipython",
    "version": 3
   },
   "file_extension": ".py",
   "mimetype": "text/x-python",
   "name": "python",
   "nbconvert_exporter": "python",
   "pygments_lexer": "ipython3",
   "version": "3.6.8"
  }
 },
 "nbformat": 4,
 "nbformat_minor": 2
}
