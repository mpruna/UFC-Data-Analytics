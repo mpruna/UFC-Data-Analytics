{
 "cells": [
  {
   "cell_type": "code",
   "execution_count": 87,
   "metadata": {},
   "outputs": [],
   "source": [
    "import pandas as pd\n",
    "import numpy as np\n",
    "import os"
   ]
  },
  {
   "cell_type": "code",
   "execution_count": 88,
   "metadata": {},
   "outputs": [
    {
     "name": "stdout",
     "output_type": "stream",
     "text": [
      "UFC_Social.xlsx\n",
      "UFC_PPV_Data.xlsx\n"
     ]
    }
   ],
   "source": [
    "basepath=(\"./datasets/\")\n",
    "pandas_list=[]\n",
    "\n",
    "for item in os.listdir(basepath):\n",
    "    print(item)\n",
    "    fn=(os.path.join(basepath, item))  #create a file handler \n",
    "    obj=pd.read_excel(fn,encoding=\"utf-8\")                #open file as a pandas dataframe  \n",
    "    pandas_list.append(obj)"
   ]
  },
  {
   "cell_type": "code",
   "execution_count": 89,
   "metadata": {},
   "outputs": [
    {
     "data": {
      "text/html": [
       "<div>\n",
       "<style scoped>\n",
       "    .dataframe tbody tr th:only-of-type {\n",
       "        vertical-align: middle;\n",
       "    }\n",
       "\n",
       "    .dataframe tbody tr th {\n",
       "        vertical-align: top;\n",
       "    }\n",
       "\n",
       "    .dataframe thead th {\n",
       "        text-align: right;\n",
       "    }\n",
       "</style>\n",
       "<table border=\"1\" class=\"dataframe\">\n",
       "  <thead>\n",
       "    <tr style=\"text-align: right;\">\n",
       "      <th></th>\n",
       "      <th>Athlete</th>\n",
       "      <th>Category</th>\n",
       "      <th>Gender</th>\n",
       "      <th>Nation</th>\n",
       "      <th>Rank</th>\n",
       "      <th>Active</th>\n",
       "      <th>Twitter</th>\n",
       "      <th>Instagram</th>\n",
       "      <th>Facebook</th>\n",
       "    </tr>\n",
       "  </thead>\n",
       "  <tbody>\n",
       "    <tr>\n",
       "      <th>0</th>\n",
       "      <td>Daniel Cormier</td>\n",
       "      <td>Heavyweight</td>\n",
       "      <td>M</td>\n",
       "      <td>USA</td>\n",
       "      <td>C</td>\n",
       "      <td>YES</td>\n",
       "      <td>709000</td>\n",
       "      <td>1900000</td>\n",
       "      <td>NaN</td>\n",
       "    </tr>\n",
       "    <tr>\n",
       "      <th>1</th>\n",
       "      <td>Stipe Miocic</td>\n",
       "      <td>Heavyweight</td>\n",
       "      <td>M</td>\n",
       "      <td>USA</td>\n",
       "      <td>1</td>\n",
       "      <td>YES</td>\n",
       "      <td>239000</td>\n",
       "      <td>774000</td>\n",
       "      <td>NaN</td>\n",
       "    </tr>\n",
       "    <tr>\n",
       "      <th>2</th>\n",
       "      <td>Francis Ngannou</td>\n",
       "      <td>Heavyweight</td>\n",
       "      <td>M</td>\n",
       "      <td>FRA</td>\n",
       "      <td>2</td>\n",
       "      <td>YES</td>\n",
       "      <td>99700</td>\n",
       "      <td>497000</td>\n",
       "      <td>NaN</td>\n",
       "    </tr>\n",
       "    <tr>\n",
       "      <th>3</th>\n",
       "      <td>Derrick Lewis</td>\n",
       "      <td>Heavyweight</td>\n",
       "      <td>M</td>\n",
       "      <td>USA</td>\n",
       "      <td>3</td>\n",
       "      <td>YES</td>\n",
       "      <td>148000</td>\n",
       "      <td>1500000</td>\n",
       "      <td>NaN</td>\n",
       "    </tr>\n",
       "    <tr>\n",
       "      <th>4</th>\n",
       "      <td>Curtis Blaydes</td>\n",
       "      <td>Heavyweight</td>\n",
       "      <td>M</td>\n",
       "      <td>USA</td>\n",
       "      <td>4</td>\n",
       "      <td>YES</td>\n",
       "      <td>12700</td>\n",
       "      <td>79100</td>\n",
       "      <td>NaN</td>\n",
       "    </tr>\n",
       "  </tbody>\n",
       "</table>\n",
       "</div>"
      ],
      "text/plain": [
       "           Athlete     Category Gender Nation Rank Active Twitter Instagram  \\\n",
       "0   Daniel Cormier  Heavyweight      M    USA    C    YES  709000   1900000   \n",
       "1     Stipe Miocic  Heavyweight      M    USA    1    YES  239000    774000   \n",
       "2  Francis Ngannou  Heavyweight      M    FRA    2    YES   99700    497000   \n",
       "3    Derrick Lewis  Heavyweight      M    USA    3    YES  148000   1500000   \n",
       "4   Curtis Blaydes  Heavyweight      M    USA    4    YES   12700     79100   \n",
       "\n",
       "  Facebook  \n",
       "0      NaN  \n",
       "1      NaN  \n",
       "2      NaN  \n",
       "3      NaN  \n",
       "4      NaN  "
      ]
     },
     "execution_count": 89,
     "metadata": {},
     "output_type": "execute_result"
    }
   ],
   "source": [
    "pandas_list[0].head()"
   ]
  },
  {
   "cell_type": "code",
   "execution_count": 90,
   "metadata": {},
   "outputs": [
    {
     "data": {
      "text/html": [
       "<div>\n",
       "<style scoped>\n",
       "    .dataframe tbody tr th:only-of-type {\n",
       "        vertical-align: middle;\n",
       "    }\n",
       "\n",
       "    .dataframe tbody tr th {\n",
       "        vertical-align: top;\n",
       "    }\n",
       "\n",
       "    .dataframe thead th {\n",
       "        text-align: right;\n",
       "    }\n",
       "</style>\n",
       "<table border=\"1\" class=\"dataframe\">\n",
       "  <thead>\n",
       "    <tr style=\"text-align: right;\">\n",
       "      <th></th>\n",
       "      <th>Event</th>\n",
       "      <th>Date</th>\n",
       "      <th>Venue</th>\n",
       "      <th>City</th>\n",
       "      <th>State/Province</th>\n",
       "      <th>Country</th>\n",
       "      <th>Attendance</th>\n",
       "      <th>EVENT #</th>\n",
       "      <th>PPV</th>\n",
       "      <th>Explanation</th>\n",
       "      <th>Month</th>\n",
       "      <th>Year</th>\n",
       "      <th>Extra Notes</th>\n",
       "    </tr>\n",
       "  </thead>\n",
       "  <tbody>\n",
       "    <tr>\n",
       "      <th>0</th>\n",
       "      <td>UFC 1: The Beginning</td>\n",
       "      <td>1993-11-12</td>\n",
       "      <td>McNichols Sports Arena</td>\n",
       "      <td>Denver</td>\n",
       "      <td>Colorado</td>\n",
       "      <td>U.S.</td>\n",
       "      <td>7800</td>\n",
       "      <td>UFC 1</td>\n",
       "      <td>Not Available</td>\n",
       "      <td>Pre-PPV</td>\n",
       "      <td>November</td>\n",
       "      <td>1993</td>\n",
       "      <td>NaN</td>\n",
       "    </tr>\n",
       "    <tr>\n",
       "      <th>1</th>\n",
       "      <td>UFC 2: No Way Out</td>\n",
       "      <td>1994-03-11</td>\n",
       "      <td>Mammoth Gardens</td>\n",
       "      <td>Denver</td>\n",
       "      <td>Colorado</td>\n",
       "      <td>U.S.</td>\n",
       "      <td>2000</td>\n",
       "      <td>UFC 2</td>\n",
       "      <td>Not Available</td>\n",
       "      <td>Pre-PPV</td>\n",
       "      <td>March</td>\n",
       "      <td>1994</td>\n",
       "      <td>NaN</td>\n",
       "    </tr>\n",
       "    <tr>\n",
       "      <th>2</th>\n",
       "      <td>UFC 3: The American Dream</td>\n",
       "      <td>1994-09-09</td>\n",
       "      <td>Grady Cole Center</td>\n",
       "      <td>Charlotte</td>\n",
       "      <td>North Carolina</td>\n",
       "      <td>U.S.</td>\n",
       "      <td>NaN</td>\n",
       "      <td>UFC 3</td>\n",
       "      <td>Not Available</td>\n",
       "      <td>Pre-PPV</td>\n",
       "      <td>September</td>\n",
       "      <td>1994</td>\n",
       "      <td>NaN</td>\n",
       "    </tr>\n",
       "    <tr>\n",
       "      <th>3</th>\n",
       "      <td>UFC 4: Revenge of the Warriors</td>\n",
       "      <td>1994-12-16</td>\n",
       "      <td>Expo Square Pavilion</td>\n",
       "      <td>Tulsa</td>\n",
       "      <td>Oklahoma</td>\n",
       "      <td>U.S.</td>\n",
       "      <td>5857</td>\n",
       "      <td>UFC 4</td>\n",
       "      <td>Not Available</td>\n",
       "      <td>Pre-PPV</td>\n",
       "      <td>December</td>\n",
       "      <td>1994</td>\n",
       "      <td>NaN</td>\n",
       "    </tr>\n",
       "    <tr>\n",
       "      <th>4</th>\n",
       "      <td>UFC 5: The Return of the Beast</td>\n",
       "      <td>1995-04-07</td>\n",
       "      <td>Independence Arena</td>\n",
       "      <td>Charlotte</td>\n",
       "      <td>North Carolina</td>\n",
       "      <td>U.S.</td>\n",
       "      <td>6000</td>\n",
       "      <td>UFC 5</td>\n",
       "      <td>Not Available</td>\n",
       "      <td>Pre-PPV</td>\n",
       "      <td>April</td>\n",
       "      <td>1995</td>\n",
       "      <td>NaN</td>\n",
       "    </tr>\n",
       "  </tbody>\n",
       "</table>\n",
       "</div>"
      ],
      "text/plain": [
       "                            Event       Date                   Venue  \\\n",
       "0            UFC 1: The Beginning 1993-11-12  McNichols Sports Arena   \n",
       "1               UFC 2: No Way Out 1994-03-11         Mammoth Gardens   \n",
       "2       UFC 3: The American Dream 1994-09-09       Grady Cole Center   \n",
       "3  UFC 4: Revenge of the Warriors 1994-12-16    Expo Square Pavilion   \n",
       "4  UFC 5: The Return of the Beast 1995-04-07      Independence Arena   \n",
       "\n",
       "        City   State/Province Country Attendance EVENT #            PPV  \\\n",
       "0     Denver         Colorado    U.S.       7800   UFC 1  Not Available   \n",
       "1     Denver         Colorado    U.S.       2000   UFC 2  Not Available   \n",
       "2  Charlotte   North Carolina    U.S.        NaN   UFC 3  Not Available   \n",
       "3      Tulsa         Oklahoma    U.S.       5857   UFC 4  Not Available   \n",
       "4  Charlotte   North Carolina    U.S.       6000   UFC 5  Not Available   \n",
       "\n",
       "  Explanation      Month  Year Extra Notes  \n",
       "0     Pre-PPV   November  1993         NaN  \n",
       "1     Pre-PPV      March  1994         NaN  \n",
       "2     Pre-PPV  September  1994         NaN  \n",
       "3     Pre-PPV   December  1994         NaN  \n",
       "4     Pre-PPV      April  1995         NaN  "
      ]
     },
     "execution_count": 90,
     "metadata": {},
     "output_type": "execute_result"
    }
   ],
   "source": [
    "pandas_list[1].head()"
   ]
  },
  {
   "cell_type": "code",
   "execution_count": 91,
   "metadata": {},
   "outputs": [],
   "source": [
    "social_stats=pandas_list[0]\n",
    "ppv_data=pandas_list[1]"
   ]
  },
  {
   "cell_type": "code",
   "execution_count": 98,
   "metadata": {},
   "outputs": [],
   "source": [
    "social_stats['Twitter']=pd.to_numeric(social_stats['Twitter'], errors='coerce', downcast='integer')\n",
    "social_stats['Instagram']=pd.to_numeric(social_stats['Instagram'], errors='coerce', downcast='integer')"
   ]
  },
  {
   "cell_type": "code",
   "execution_count": 99,
   "metadata": {},
   "outputs": [
    {
     "data": {
      "text/plain": [
       "0     709000.0\n",
       "1     239000.0\n",
       "2      99700.0\n",
       "3     148000.0\n",
       "4      12700.0\n",
       "5     505000.0\n",
       "6    1340000.0\n",
       "7       4614.0\n",
       "8       3018.0\n",
       "9       1775.0\n",
       "Name: Twitter, dtype: float64"
      ]
     },
     "execution_count": 99,
     "metadata": {},
     "output_type": "execute_result"
    }
   ],
   "source": [
    "social_stats['Twitter'].head(10)"
   ]
  },
  {
   "cell_type": "code",
   "execution_count": null,
   "metadata": {},
   "outputs": [],
   "source": []
  },
  {
   "cell_type": "code",
   "execution_count": 97,
   "metadata": {},
   "outputs": [
    {
     "data": {
      "text/plain": [
       "count    1.590000e+02\n",
       "mean     3.344525e+05\n",
       "std      1.110623e+06\n",
       "min      1.650000e+02\n",
       "25%      1.225000e+04\n",
       "50%      5.250000e+04\n",
       "75%      2.105000e+05\n",
       "max      7.860000e+06\n",
       "Name: Twitter, dtype: float64"
      ]
     },
     "execution_count": 97,
     "metadata": {},
     "output_type": "execute_result"
    }
   ],
   "source": [
    "social_stats['Twitter'].describe()"
   ]
  },
  {
   "cell_type": "code",
   "execution_count": null,
   "metadata": {},
   "outputs": [],
   "source": []
  }
 ],
 "metadata": {
  "kernelspec": {
   "display_name": "Python 3",
   "language": "python",
   "name": "python3"
  },
  "language_info": {
   "codemirror_mode": {
    "name": "ipython",
    "version": 3
   },
   "file_extension": ".py",
   "mimetype": "text/x-python",
   "name": "python",
   "nbconvert_exporter": "python",
   "pygments_lexer": "ipython3",
   "version": "3.6.8"
  },
  "latex_envs": {
   "LaTeX_envs_menu_present": true,
   "autoclose": false,
   "autocomplete": true,
   "bibliofile": "biblio.bib",
   "cite_by": "apalike",
   "current_citInitial": 1,
   "eqLabelWithNumbers": true,
   "eqNumInitial": 1,
   "hotkeys": {
    "equation": "Ctrl-E",
    "itemize": "Ctrl-I"
   },
   "labels_anchors": false,
   "latex_user_defs": false,
   "report_style_numbering": false,
   "user_envs_cfg": false
  }
 },
 "nbformat": 4,
 "nbformat_minor": 2
}
